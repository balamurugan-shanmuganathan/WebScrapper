{
  "nbformat": 4,
  "nbformat_minor": 0,
  "metadata": {
    "colab": {
      "name": "Selenium_Basic_WebScrapper.ipynb",
      "provenance": []
    },
    "kernelspec": {
      "name": "python3",
      "display_name": "Python 3"
    },
    "language_info": {
      "name": "python"
    }
  },
  "cells": [
    {
      "cell_type": "code",
      "source": [
        "# Use Selenium in google cola\n",
        "!pip install selenium\n",
        "!apt-get update # to update ubuntu to correctly run apt install\n",
        "!apt install chromium-chromedriver\n",
        "!cp /usr/lib/chromium-browser/chromedriver /usr/bin"
      ],
      "metadata": {
        "id": "FGKF3yGsCn6I"
      },
      "execution_count": null,
      "outputs": []
    },
    {
      "cell_type": "code",
      "execution_count": 2,
      "metadata": {
        "colab": {
          "base_uri": "https://localhost:8080/"
        },
        "id": "dyLcJuZ-Ccoz",
        "outputId": "3f8ddaa2-108e-4720-bfae-6f7837697073"
      },
      "outputs": [
        {
          "output_type": "stream",
          "name": "stderr",
          "text": [
            "/usr/local/lib/python3.7/dist-packages/ipykernel_launcher.py:9: DeprecationWarning: use options instead of chrome_options\n",
            "  if __name__ == '__main__':\n"
          ]
        }
      ],
      "source": [
        "# Set path for driver\n",
        "import sys\n",
        "from selenium import webdriver\n",
        "sys.path.insert(0,'/usr/lib/chromium-browser/chromedriver')\n",
        "chrome_options = webdriver.ChromeOptions()\n",
        "chrome_options.add_argument('--headless')\n",
        "chrome_options.add_argument('--no-sandbox')\n",
        "chrome_options.add_argument('--disable-dev-shm-usage')\n",
        "browser = webdriver.Chrome('chromedriver',chrome_options=chrome_options)"
      ]
    },
    {
      "cell_type": "code",
      "source": [
        "url = 'https://www.scrapethissite.com/pages/simple/'"
      ],
      "metadata": {
        "id": "UTfqgUPnCkil"
      },
      "execution_count": 3,
      "outputs": []
    },
    {
      "cell_type": "code",
      "source": [
        "browser.get(url)"
      ],
      "metadata": {
        "id": "hrAO67stDloV"
      },
      "execution_count": 4,
      "outputs": []
    },
    {
      "cell_type": "markdown",
      "source": [
        "Scrap the data"
      ],
      "metadata": {
        "id": "dN4CdW74jpUQ"
      }
    },
    {
      "cell_type": "code",
      "source": [
        "# get country list\n",
        "country_list = browser.find_elements_by_xpath(\"//h3[@class='country-name']\")\n",
        "\n",
        "# parse the data\n",
        "countries = []\n",
        "for country in country_list:\n",
        "    # get the text data\n",
        "    temp = country.text\n",
        "    countries.append(temp)\n",
        "print(countries)"
      ],
      "metadata": {
        "colab": {
          "base_uri": "https://localhost:8080/"
        },
        "id": "SnNVD4l_hE9m",
        "outputId": "b964bbbd-207f-4c95-cb38-078a9d84be90"
      },
      "execution_count": 9,
      "outputs": [
        {
          "output_type": "stream",
          "name": "stdout",
          "text": [
            "['Andorra', 'United Arab Emirates', 'Afghanistan', 'Antigua and Barbuda', 'Anguilla', 'Albania', 'Armenia', 'Angola', 'Antarctica', 'Argentina', 'American Samoa', 'Austria', 'Australia', 'Aruba', 'Åland', 'Azerbaijan', 'Bosnia and Herzegovina', 'Barbados', 'Bangladesh', 'Belgium', 'Burkina Faso', 'Bulgaria', 'Bahrain', 'Burundi', 'Benin', 'Saint Barthélemy', 'Bermuda', 'Brunei', 'Bolivia', 'Bonaire', 'Brazil', 'Bahamas', 'Bhutan', 'Bouvet Island', 'Botswana', 'Belarus', 'Belize', 'Canada', 'Cocos [Keeling] Islands', 'Democratic Republic of the Congo', 'Central African Republic', 'Republic of the Congo', 'Switzerland', 'Ivory Coast', 'Cook Islands', 'Chile', 'Cameroon', 'China', 'Colombia', 'Costa Rica', 'Cuba', 'Cape Verde', 'Curacao', 'Christmas Island', 'Cyprus', 'Czech Republic', 'Germany', 'Djibouti', 'Denmark', 'Dominica', 'Dominican Republic', 'Algeria', 'Ecuador', 'Estonia', 'Egypt', 'Western Sahara', 'Eritrea', 'Spain', 'Ethiopia', 'Finland', 'Fiji', 'Falkland Islands', 'Micronesia', 'Faroe Islands', 'France', 'Gabon', 'United Kingdom', 'Grenada', 'Georgia', 'French Guiana', 'Guernsey', 'Ghana', 'Gibraltar', 'Greenland', 'Gambia', 'Guinea', 'Guadeloupe', 'Equatorial Guinea', 'Greece', 'South Georgia and the South Sandwich Islands', 'Guatemala', 'Guam', 'Guinea-Bissau', 'Guyana', 'Hong Kong', 'Heard Island and McDonald Islands', 'Honduras', 'Croatia', 'Haiti', 'Hungary', 'Indonesia', 'Ireland', 'Israel', 'Isle of Man', 'India', 'British Indian Ocean Territory', 'Iraq', 'Iran', 'Iceland', 'Italy', 'Jersey', 'Jamaica', 'Jordan', 'Japan', 'Kenya', 'Kyrgyzstan', 'Cambodia', 'Kiribati', 'Comoros', 'Saint Kitts and Nevis', 'North Korea', 'South Korea', 'Kuwait', 'Cayman Islands', 'Kazakhstan', 'Laos', 'Lebanon', 'Saint Lucia', 'Liechtenstein', 'Sri Lanka', 'Liberia', 'Lesotho', 'Lithuania', 'Luxembourg', 'Latvia', 'Libya', 'Morocco', 'Monaco', 'Moldova', 'Montenegro', 'Saint Martin', 'Madagascar', 'Marshall Islands', 'Macedonia', 'Mali', 'Myanmar [Burma]', 'Mongolia', 'Macao', 'Northern Mariana Islands', 'Martinique', 'Mauritania', 'Montserrat', 'Malta', 'Mauritius', 'Maldives', 'Malawi', 'Mexico', 'Malaysia', 'Mozambique', 'Namibia', 'New Caledonia', 'Niger', 'Norfolk Island', 'Nigeria', 'Nicaragua', 'Netherlands', 'Norway', 'Nepal', 'Nauru', 'Niue', 'New Zealand', 'Oman', 'Panama', 'Peru', 'French Polynesia', 'Papua New Guinea', 'Philippines', 'Pakistan', 'Poland', 'Saint Pierre and Miquelon', 'Pitcairn Islands', 'Puerto Rico', 'Palestine', 'Portugal', 'Palau', 'Paraguay', 'Qatar', 'Réunion', 'Romania', 'Serbia', 'Russia', 'Rwanda', 'Saudi Arabia', 'Solomon Islands', 'Seychelles', 'Sudan', 'Sweden', 'Singapore', 'Saint Helena', 'Slovenia', 'Svalbard and Jan Mayen', 'Slovakia', 'Sierra Leone', 'San Marino', 'Senegal', 'Somalia', 'Suriname', 'South Sudan', 'São Tomé and Príncipe', 'El Salvador', 'Sint Maarten', 'Syria', 'Swaziland', 'Turks and Caicos Islands', 'Chad', 'French Southern Territories', 'Togo', 'Thailand', 'Tajikistan', 'Tokelau', 'East Timor', 'Turkmenistan', 'Tunisia', 'Tonga', 'Turkey', 'Trinidad and Tobago', 'Tuvalu', 'Taiwan', 'Tanzania', 'Ukraine', 'Uganda', 'U.S. Minor Outlying Islands', 'United States', 'Uruguay', 'Uzbekistan', 'Vatican City', 'Saint Vincent and the Grenadines', 'Venezuela', 'British Virgin Islands', 'U.S. Virgin Islands', 'Vietnam', 'Vanuatu', 'Wallis and Futuna', 'Samoa', 'Kosovo', 'Yemen', 'Mayotte', 'South Africa', 'Zambia', 'Zimbabwe']\n"
          ]
        }
      ]
    },
    {
      "cell_type": "code",
      "source": [
        "# Get the population\n",
        "population_list = browser.find_elements_by_xpath(\"//span[@class='country-population']\")\n",
        "\n",
        "# Parse Population\n",
        "populations = []\n",
        "for population in population_list:\n",
        "  temp = population.text\n",
        "  populations.append(temp)\n",
        "print(populations)"
      ],
      "metadata": {
        "colab": {
          "base_uri": "https://localhost:8080/"
        },
        "id": "ZW8zR8ILjKAC",
        "outputId": "d08eb172-4eb6-4620-982e-6ae0d39ba86d"
      },
      "execution_count": 11,
      "outputs": [
        {
          "output_type": "stream",
          "name": "stdout",
          "text": [
            "['84000', '4975593', '29121286', '86754', '13254', '2986952', '2968000', '13068161', '0', '41343201', '57881', '8205000', '21515754', '71566', '26711', '8303512', '4590000', '285653', '156118464', '10403000', '16241811', '7148785', '738004', '9863117', '9056010', '8450', '65365', '395027', '9947418', '18012', '201103330', '301790', '699847', '0', '2029307', '9685000', '314522', '33679000', '628', '70916439', '4844927', '3039126', '7581000', '21058798', '21388', '16746491', '19294149', '1330044000', '47790000', '4516220', '11423000', '508659', '141766', '1500', '1102677', '10476000', '81802257', '740528', '5484000', '72813', '9823821', '34586184', '14790608', '1291170', '80471869', '273008', '5792984', '46505963', '88013491', '5244000', '875983', '2638', '107708', '48228', '64768389', '1545255', '62348447', '107818', '4630000', '195506', '65228', '24339838', '27884', '56375', '1593256', '10324025', '443000', '1014999', '11000000', '30', '13550440', '159358', '1565126', '748486', '6898686', '0', '7989415', '4491000', '9648924', '9982000', '242968342', '4622917', '7353985', '75049', '1173108018', '4000', '29671605', '76923300', '308910', '60340328', '90812', '2847232', '6407085', '127288000', '40046566', '5776500', '14453680', '92533', '773407', '51134', '22912177', '48422644', '2789132', '44270', '15340000', '6368162', '4125247', '160922', '35000', '21513990', '3685076', '1919552', '2944459', '497538', '2217969', '6461454', '31627428', '32965', '4324000', '666730', '35925', '21281844', '65859', '2062294', '13796354', '53414374', '3086918', '449198', '53883', '432900', '3205060', '9341', '403000', '1294104', '395650', '15447500', '112468855', '28274729', '22061451', '2128471', '216494', '15878271', '1828', '154000000', '5995928', '16645000', '5009150', '28951852', '10065', '2166', '4252277', '2967717', '3410676', '29907003', '270485', '6064515', '99900177', '184404791', '38500000', '7012', '46', '3916632', '3800000', '10676000', '19907', '6375830', '840926', '776948', '21959278', '7344847', '140702000', '11055976', '25731776', '559198', '88340', '35000000', '9828655', '4701069', '7460', '2007000', '2550', '5455000', '5245695', '31477', '12323252', '10112453', '492829', '8260490', '175808', '6052064', '37429', '22198110', '1354051', '20556', '10543464', '140', '6587239', '67089500', '7487489', '1466', '1154625', '4940916', '10589025', '122580', '77804122', '1228691', '10472', '22894384', '41892895', '45415596', '33398682', '0', '310232863', '3477000', '27865738', '921', '104217', '27223228', '21730', '108708', '89571130', '221552', '16025', '192001', '1800000', '23495361', '159042', '49000000', '13460305', '11651858']\n"
          ]
        }
      ]
    },
    {
      "cell_type": "code",
      "source": [
        "# Country Capital\n",
        "capital_list = browser.find_elements_by_xpath(\"//span[@class='country-capital']\")\n",
        "\n",
        "# Parse Capitals\n",
        "capitals = []\n",
        "for capital in capital_list:\n",
        "  temp = capital.text\n",
        "  capitals.append(temp)\n",
        "print(capitals)"
      ],
      "metadata": {
        "colab": {
          "base_uri": "https://localhost:8080/"
        },
        "id": "ZJeTpkQIj232",
        "outputId": "0163f8b2-aeb6-4792-ee75-009e18d33d66"
      },
      "execution_count": 12,
      "outputs": [
        {
          "output_type": "stream",
          "name": "stderr",
          "text": [
            "/usr/local/lib/python3.7/dist-packages/ipykernel_launcher.py:2: DeprecationWarning: find_elements_by_xpath is deprecated. Please use find_elements(by=By.XPATH, value=xpath) instead\n",
            "  \n"
          ]
        },
        {
          "output_type": "stream",
          "name": "stdout",
          "text": [
            "['Andorra la Vella', 'Abu Dhabi', 'Kabul', \"St. John's\", 'The Valley', 'Tirana', 'Yerevan', 'Luanda', 'None', 'Buenos Aires', 'Pago Pago', 'Vienna', 'Canberra', 'Oranjestad', 'Mariehamn', 'Baku', 'Sarajevo', 'Bridgetown', 'Dhaka', 'Brussels', 'Ouagadougou', 'Sofia', 'Manama', 'Bujumbura', 'Porto-Novo', 'Gustavia', 'Hamilton', 'Bandar Seri Begawan', 'Sucre', 'Kralendijk', 'Brasília', 'Nassau', 'Thimphu', 'None', 'Gaborone', 'Minsk', 'Belmopan', 'Ottawa', 'West Island', 'Kinshasa', 'Bangui', 'Brazzaville', 'Bern', 'Yamoussoukro', 'Avarua', 'Santiago', 'Yaoundé', 'Beijing', 'Bogotá', 'San José', 'Havana', 'Praia', 'Willemstad', 'Flying Fish Cove', 'Nicosia', 'Prague', 'Berlin', 'Djibouti', 'Copenhagen', 'Roseau', 'Santo Domingo', 'Algiers', 'Quito', 'Tallinn', 'Cairo', 'Laâyoune / El Aaiún', 'Asmara', 'Madrid', 'Addis Ababa', 'Helsinki', 'Suva', 'Stanley', 'Palikir', 'Tórshavn', 'Paris', 'Libreville', 'London', \"St. George's\", 'Tbilisi', 'Cayenne', 'St Peter Port', 'Accra', 'Gibraltar', 'Nuuk', 'Bathurst', 'Conakry', 'Basse-Terre', 'Malabo', 'Athens', 'Grytviken', 'Guatemala City', 'Hagåtña', 'Bissau', 'Georgetown', 'Hong Kong', 'None', 'Tegucigalpa', 'Zagreb', 'Port-au-Prince', 'Budapest', 'Jakarta', 'Dublin', 'None', 'Douglas', 'New Delhi', 'None', 'Baghdad', 'Tehran', 'Reykjavik', 'Rome', 'Saint Helier', 'Kingston', 'Amman', 'Tokyo', 'Nairobi', 'Bishkek', 'Phnom Penh', 'Tarawa', 'Moroni', 'Basseterre', 'Pyongyang', 'Seoul', 'Kuwait City', 'George Town', 'Astana', 'Vientiane', 'Beirut', 'Castries', 'Vaduz', 'Colombo', 'Monrovia', 'Maseru', 'Vilnius', 'Luxembourg', 'Riga', 'Tripoli', 'Rabat', 'Monaco', 'Chişinău', 'Podgorica', 'Marigot', 'Antananarivo', 'Majuro', 'Skopje', 'Bamako', 'Naypyitaw', 'Ulan Bator', 'Macao', 'Saipan', 'Fort-de-France', 'Nouakchott', 'Plymouth', 'Valletta', 'Port Louis', 'Malé', 'Lilongwe', 'Mexico City', 'Kuala Lumpur', 'Maputo', 'Windhoek', 'Noumea', 'Niamey', 'Kingston', 'Abuja', 'Managua', 'Amsterdam', 'Oslo', 'Kathmandu', 'Yaren', 'Alofi', 'Wellington', 'Muscat', 'Panama City', 'Lima', 'Papeete', 'Port Moresby', 'Manila', 'Islamabad', 'Warsaw', 'Saint-Pierre', 'Adamstown', 'San Juan', 'None', 'Lisbon', 'Melekeok', 'Asunción', 'Doha', 'Saint-Denis', 'Bucharest', 'Belgrade', 'Moscow', 'Kigali', 'Riyadh', 'Honiara', 'Victoria', 'Khartoum', 'Stockholm', 'Singapore', 'Jamestown', 'Ljubljana', 'Longyearbyen', 'Bratislava', 'Freetown', 'San Marino', 'Dakar', 'Mogadishu', 'Paramaribo', 'Juba', 'São Tomé', 'San Salvador', 'Philipsburg', 'Damascus', 'Mbabane', 'Cockburn Town', \"N'Djamena\", 'Port-aux-Français', 'Lomé', 'Bangkok', 'Dushanbe', 'None', 'Dili', 'Ashgabat', 'Tunis', \"Nuku'alofa\", 'Ankara', 'Port of Spain', 'Funafuti', 'Taipei', 'Dodoma', 'Kiev', 'Kampala', 'None', 'Washington', 'Montevideo', 'Tashkent', 'Vatican City', 'Kingstown', 'Caracas', 'Road Town', 'Charlotte Amalie', 'Hanoi', 'Port Vila', 'Mata-Utu', 'Apia', 'Pristina', 'Sanaa', 'Mamoudzou', 'Pretoria', 'Lusaka', 'Harare']\n"
          ]
        }
      ]
    },
    {
      "cell_type": "code",
      "source": [
        "# Country Area\n",
        "area_list = browser.find_elements_by_xpath(\"//span[@class='country-area']\")\n",
        "\n",
        "# Parse Area\n",
        "areas = []\n",
        "for area in area_list:\n",
        "  temp = area.text\n",
        "  areas.append(temp)\n",
        "print(areas)"
      ],
      "metadata": {
        "colab": {
          "base_uri": "https://localhost:8080/"
        },
        "id": "zjcdnbTPkrj8",
        "outputId": "cb9a1a04-d2cc-405a-d8f1-c39e4103b0aa"
      },
      "execution_count": 15,
      "outputs": [
        {
          "output_type": "stream",
          "name": "stderr",
          "text": [
            "/usr/local/lib/python3.7/dist-packages/ipykernel_launcher.py:2: DeprecationWarning: find_elements_by_xpath is deprecated. Please use find_elements(by=By.XPATH, value=xpath) instead\n",
            "  \n"
          ]
        },
        {
          "output_type": "stream",
          "name": "stdout",
          "text": [
            "['468.0', '82880.0', '647500.0', '443.0', '102.0', '28748.0', '29800.0', '1246700.0', '1.4E7', '2766890.0', '199.0', '83858.0', '7686850.0', '193.0', '1580.0', '86600.0', '51129.0', '431.0', '144000.0', '30510.0', '274200.0', '110910.0', '665.0', '27830.0', '112620.0', '21.0', '53.0', '5770.0', '1098580.0', '328.0', '8511965.0', '13940.0', '47000.0', '49.0', '600370.0', '207600.0', '22966.0', '9984670.0', '14.0', '2345410.0', '622984.0', '342000.0', '41290.0', '322460.0', '240.0', '756950.0', '475440.0', '9596960.0', '1138910.0', '51100.0', '110860.0', '4033.0', '444.0', '135.0', '9250.0', '78866.0', '357021.0', '23000.0', '43094.0', '754.0', '48730.0', '2381740.0', '283560.0', '45226.0', '1001450.0', '266000.0', '121320.0', '504782.0', '1127127.0', '337030.0', '18270.0', '12173.0', '702.0', '1399.0', '547030.0', '267667.0', '244820.0', '344.0', '69700.0', '91000.0', '78.0', '239460.0', '6.5', '2166086.0', '11300.0', '245857.0', '1780.0', '28051.0', '131940.0', '3903.0', '108890.0', '549.0', '36120.0', '214970.0', '1092.0', '412.0', '112090.0', '56542.0', '27750.0', '93030.0', '1919440.0', '70280.0', '20770.0', '572.0', '3287590.0', '60.0', '437072.0', '1648000.0', '103000.0', '301230.0', '116.0', '10991.0', '92300.0', '377835.0', '582650.0', '198500.0', '181040.0', '811.0', '2170.0', '261.0', '120540.0', '98480.0', '17820.0', '262.0', '2717300.0', '236800.0', '10400.0', '616.0', '160.0', '65610.0', '111370.0', '30355.0', '65200.0', '2586.0', '64589.0', '1759540.0', '446550.0', '1.95', '33843.0', '14026.0', '53.0', '587040.0', '181.3', '25333.0', '1240000.0', '678500.0', '1565000.0', '254.0', '477.0', '1100.0', '1030700.0', '102.0', '316.0', '2040.0', '300.0', '118480.0', '1972550.0', '329750.0', '801590.0', '825418.0', '19060.0', '1267000.0', '34.6', '923768.0', '129494.0', '41526.0', '324220.0', '140800.0', '21.0', '260.0', '268680.0', '212460.0', '78200.0', '1285220.0', '4167.0', '462840.0', '300000.0', '803940.0', '312685.0', '242.0', '47.0', '9104.0', '5970.0', '92391.0', '458.0', '406750.0', '11437.0', '2517.0', '237500.0', '88361.0', '1.71E7', '26338.0', '1960582.0', '28450.0', '455.0', '1861484.0', '449964.0', '692.7', '410.0', '20273.0', '62049.0', '48845.0', '71740.0', '61.2', '196190.0', '637657.0', '163270.0', '644329.0', '1001.0', '21040.0', '21.0', '185180.0', '17363.0', '430.0', '1284000.0', '7829.0', '56785.0', '514000.0', '143100.0', '10.0', '15007.0', '488100.0', '163610.0', '748.0', '780580.0', '5128.0', '26.0', '35980.0', '945087.0', '603700.0', '236040.0', '0.0', '9629091.0', '176220.0', '447400.0', '0.44', '389.0', '912050.0', '153.0', '352.0', '329560.0', '12200.0', '274.0', '2944.0', '10908.0', '527970.0', '374.0', '1219912.0', '752614.0', '390580.0']\n"
          ]
        }
      ]
    },
    {
      "cell_type": "code",
      "source": [
        "import pandas as pd\n",
        "result = pd.DataFrame()\n",
        "result['Country'] = countries\n",
        "result['Capitals'] = capitals\n",
        "result['Populations'] = populations\n",
        "result['Area (Km)'] = areas\n",
        "\n",
        "result.head(10)"
      ],
      "metadata": {
        "colab": {
          "base_uri": "https://localhost:8080/",
          "height": 363
        },
        "id": "whKA6aaNlOLS",
        "outputId": "c11b2fcd-3ef5-4b94-87a5-e5c6057248eb"
      },
      "execution_count": 17,
      "outputs": [
        {
          "output_type": "execute_result",
          "data": {
            "text/plain": [
              "                Country          Capitals Populations  Area (Km)\n",
              "0               Andorra  Andorra la Vella       84000      468.0\n",
              "1  United Arab Emirates         Abu Dhabi     4975593    82880.0\n",
              "2           Afghanistan             Kabul    29121286   647500.0\n",
              "3   Antigua and Barbuda        St. John's       86754      443.0\n",
              "4              Anguilla        The Valley       13254      102.0\n",
              "5               Albania            Tirana     2986952    28748.0\n",
              "6               Armenia           Yerevan     2968000    29800.0\n",
              "7                Angola            Luanda    13068161  1246700.0\n",
              "8            Antarctica              None           0      1.4E7\n",
              "9             Argentina      Buenos Aires    41343201  2766890.0"
            ],
            "text/html": [
              "\n",
              "  <div id=\"df-d97f2e9f-ba95-4085-8e65-614f4a3ff5af\">\n",
              "    <div class=\"colab-df-container\">\n",
              "      <div>\n",
              "<style scoped>\n",
              "    .dataframe tbody tr th:only-of-type {\n",
              "        vertical-align: middle;\n",
              "    }\n",
              "\n",
              "    .dataframe tbody tr th {\n",
              "        vertical-align: top;\n",
              "    }\n",
              "\n",
              "    .dataframe thead th {\n",
              "        text-align: right;\n",
              "    }\n",
              "</style>\n",
              "<table border=\"1\" class=\"dataframe\">\n",
              "  <thead>\n",
              "    <tr style=\"text-align: right;\">\n",
              "      <th></th>\n",
              "      <th>Country</th>\n",
              "      <th>Capitals</th>\n",
              "      <th>Populations</th>\n",
              "      <th>Area (Km)</th>\n",
              "    </tr>\n",
              "  </thead>\n",
              "  <tbody>\n",
              "    <tr>\n",
              "      <th>0</th>\n",
              "      <td>Andorra</td>\n",
              "      <td>Andorra la Vella</td>\n",
              "      <td>84000</td>\n",
              "      <td>468.0</td>\n",
              "    </tr>\n",
              "    <tr>\n",
              "      <th>1</th>\n",
              "      <td>United Arab Emirates</td>\n",
              "      <td>Abu Dhabi</td>\n",
              "      <td>4975593</td>\n",
              "      <td>82880.0</td>\n",
              "    </tr>\n",
              "    <tr>\n",
              "      <th>2</th>\n",
              "      <td>Afghanistan</td>\n",
              "      <td>Kabul</td>\n",
              "      <td>29121286</td>\n",
              "      <td>647500.0</td>\n",
              "    </tr>\n",
              "    <tr>\n",
              "      <th>3</th>\n",
              "      <td>Antigua and Barbuda</td>\n",
              "      <td>St. John's</td>\n",
              "      <td>86754</td>\n",
              "      <td>443.0</td>\n",
              "    </tr>\n",
              "    <tr>\n",
              "      <th>4</th>\n",
              "      <td>Anguilla</td>\n",
              "      <td>The Valley</td>\n",
              "      <td>13254</td>\n",
              "      <td>102.0</td>\n",
              "    </tr>\n",
              "    <tr>\n",
              "      <th>5</th>\n",
              "      <td>Albania</td>\n",
              "      <td>Tirana</td>\n",
              "      <td>2986952</td>\n",
              "      <td>28748.0</td>\n",
              "    </tr>\n",
              "    <tr>\n",
              "      <th>6</th>\n",
              "      <td>Armenia</td>\n",
              "      <td>Yerevan</td>\n",
              "      <td>2968000</td>\n",
              "      <td>29800.0</td>\n",
              "    </tr>\n",
              "    <tr>\n",
              "      <th>7</th>\n",
              "      <td>Angola</td>\n",
              "      <td>Luanda</td>\n",
              "      <td>13068161</td>\n",
              "      <td>1246700.0</td>\n",
              "    </tr>\n",
              "    <tr>\n",
              "      <th>8</th>\n",
              "      <td>Antarctica</td>\n",
              "      <td>None</td>\n",
              "      <td>0</td>\n",
              "      <td>1.4E7</td>\n",
              "    </tr>\n",
              "    <tr>\n",
              "      <th>9</th>\n",
              "      <td>Argentina</td>\n",
              "      <td>Buenos Aires</td>\n",
              "      <td>41343201</td>\n",
              "      <td>2766890.0</td>\n",
              "    </tr>\n",
              "  </tbody>\n",
              "</table>\n",
              "</div>\n",
              "      <button class=\"colab-df-convert\" onclick=\"convertToInteractive('df-d97f2e9f-ba95-4085-8e65-614f4a3ff5af')\"\n",
              "              title=\"Convert this dataframe to an interactive table.\"\n",
              "              style=\"display:none;\">\n",
              "        \n",
              "  <svg xmlns=\"http://www.w3.org/2000/svg\" height=\"24px\"viewBox=\"0 0 24 24\"\n",
              "       width=\"24px\">\n",
              "    <path d=\"M0 0h24v24H0V0z\" fill=\"none\"/>\n",
              "    <path d=\"M18.56 5.44l.94 2.06.94-2.06 2.06-.94-2.06-.94-.94-2.06-.94 2.06-2.06.94zm-11 1L8.5 8.5l.94-2.06 2.06-.94-2.06-.94L8.5 2.5l-.94 2.06-2.06.94zm10 10l.94 2.06.94-2.06 2.06-.94-2.06-.94-.94-2.06-.94 2.06-2.06.94z\"/><path d=\"M17.41 7.96l-1.37-1.37c-.4-.4-.92-.59-1.43-.59-.52 0-1.04.2-1.43.59L10.3 9.45l-7.72 7.72c-.78.78-.78 2.05 0 2.83L4 21.41c.39.39.9.59 1.41.59.51 0 1.02-.2 1.41-.59l7.78-7.78 2.81-2.81c.8-.78.8-2.07 0-2.86zM5.41 20L4 18.59l7.72-7.72 1.47 1.35L5.41 20z\"/>\n",
              "  </svg>\n",
              "      </button>\n",
              "      \n",
              "  <style>\n",
              "    .colab-df-container {\n",
              "      display:flex;\n",
              "      flex-wrap:wrap;\n",
              "      gap: 12px;\n",
              "    }\n",
              "\n",
              "    .colab-df-convert {\n",
              "      background-color: #E8F0FE;\n",
              "      border: none;\n",
              "      border-radius: 50%;\n",
              "      cursor: pointer;\n",
              "      display: none;\n",
              "      fill: #1967D2;\n",
              "      height: 32px;\n",
              "      padding: 0 0 0 0;\n",
              "      width: 32px;\n",
              "    }\n",
              "\n",
              "    .colab-df-convert:hover {\n",
              "      background-color: #E2EBFA;\n",
              "      box-shadow: 0px 1px 2px rgba(60, 64, 67, 0.3), 0px 1px 3px 1px rgba(60, 64, 67, 0.15);\n",
              "      fill: #174EA6;\n",
              "    }\n",
              "\n",
              "    [theme=dark] .colab-df-convert {\n",
              "      background-color: #3B4455;\n",
              "      fill: #D2E3FC;\n",
              "    }\n",
              "\n",
              "    [theme=dark] .colab-df-convert:hover {\n",
              "      background-color: #434B5C;\n",
              "      box-shadow: 0px 1px 3px 1px rgba(0, 0, 0, 0.15);\n",
              "      filter: drop-shadow(0px 1px 2px rgba(0, 0, 0, 0.3));\n",
              "      fill: #FFFFFF;\n",
              "    }\n",
              "  </style>\n",
              "\n",
              "      <script>\n",
              "        const buttonEl =\n",
              "          document.querySelector('#df-d97f2e9f-ba95-4085-8e65-614f4a3ff5af button.colab-df-convert');\n",
              "        buttonEl.style.display =\n",
              "          google.colab.kernel.accessAllowed ? 'block' : 'none';\n",
              "\n",
              "        async function convertToInteractive(key) {\n",
              "          const element = document.querySelector('#df-d97f2e9f-ba95-4085-8e65-614f4a3ff5af');\n",
              "          const dataTable =\n",
              "            await google.colab.kernel.invokeFunction('convertToInteractive',\n",
              "                                                     [key], {});\n",
              "          if (!dataTable) return;\n",
              "\n",
              "          const docLinkHtml = 'Like what you see? Visit the ' +\n",
              "            '<a target=\"_blank\" href=https://colab.research.google.com/notebooks/data_table.ipynb>data table notebook</a>'\n",
              "            + ' to learn more about interactive tables.';\n",
              "          element.innerHTML = '';\n",
              "          dataTable['output_type'] = 'display_data';\n",
              "          await google.colab.output.renderOutput(dataTable, element);\n",
              "          const docLink = document.createElement('div');\n",
              "          docLink.innerHTML = docLinkHtml;\n",
              "          element.appendChild(docLink);\n",
              "        }\n",
              "      </script>\n",
              "    </div>\n",
              "  </div>\n",
              "  "
            ]
          },
          "metadata": {},
          "execution_count": 17
        }
      ]
    },
    {
      "cell_type": "code",
      "source": [
        "# Close the Browser\n",
        "browser.quit()"
      ],
      "metadata": {
        "id": "ocfhpqDGmQ6l"
      },
      "execution_count": 18,
      "outputs": []
    }
  ]
}