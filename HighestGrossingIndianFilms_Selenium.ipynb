{
  "nbformat": 4,
  "nbformat_minor": 0,
  "metadata": {
    "colab": {
      "name": "HighestGrossingIndianFilms-Selenium.ipynb",
      "provenance": []
    },
    "kernelspec": {
      "name": "python3",
      "display_name": "Python 3"
    },
    "language_info": {
      "name": "python"
    }
  },
  "cells": [
    {
      "cell_type": "code",
      "execution_count": null,
      "metadata": {
        "id": "56mdeSD-5foj"
      },
      "outputs": [],
      "source": [
        "\n",
        "# Use Selenium in google cola\n",
        "!pip install selenium\n",
        "!apt-get update # to update ubuntu to correctly run apt install\n",
        "!apt install chromium-chromedriver\n",
        "!cp /usr/lib/chromium-browser/chromedriver /usr/bin"
      ]
    },
    {
      "cell_type": "code",
      "source": [
        "# Set path for driver\n",
        "import sys\n",
        "from selenium import webdriver\n",
        "sys.path.insert(0,'/usr/lib/chromium-browser/chromedriver')\n",
        "chrome_options = webdriver.ChromeOptions()\n",
        "chrome_options.add_argument('--headless')\n",
        "chrome_options.add_argument('--no-sandbox')\n",
        "chrome_options.add_argument('--disable-dev-shm-usage')\n",
        "browser = webdriver.Chrome('chromedriver',chrome_options=chrome_options)"
      ],
      "metadata": {
        "id": "0jusbFvA8shL",
        "outputId": "050329bd-9003-41e1-89c0-73044b5643f7",
        "colab": {
          "base_uri": "https://localhost:8080/"
        }
      },
      "execution_count": 40,
      "outputs": [
        {
          "output_type": "stream",
          "name": "stderr",
          "text": [
            "/usr/local/lib/python3.7/dist-packages/ipykernel_launcher.py:9: DeprecationWarning: use options instead of chrome_options\n",
            "  if __name__ == '__main__':\n"
          ]
        }
      ]
    },
    {
      "cell_type": "code",
      "source": [
        "url = 'https://m.imdb.com/list/ls063771441/'\n",
        "browser.get(url)"
      ],
      "metadata": {
        "id": "AlGjox0o5kce"
      },
      "execution_count": 41,
      "outputs": []
    },
    {
      "cell_type": "code",
      "source": [
        "movie_list = browser.find_elements_by_xpath(\"//span[@class='h4']\")\n",
        "print('Length_of_movie_list : ', len(movie_list))\n",
        "\n",
        "movies = []\n",
        "for movie in movie_list:\n",
        "  movie = movie.text\n",
        "  movies.append(movie)\n",
        "print(movies)"
      ],
      "metadata": {
        "colab": {
          "base_uri": "https://localhost:8080/"
        },
        "id": "ovOBrwPm5yHB",
        "outputId": "4d42e7b2-854c-4937-cd2f-ad04f0e3667d"
      },
      "execution_count": 42,
      "outputs": [
        {
          "output_type": "stream",
          "name": "stderr",
          "text": [
            "/usr/local/lib/python3.7/dist-packages/ipykernel_launcher.py:1: DeprecationWarning: find_elements_by_xpath is deprecated. Please use find_elements(by=By.XPATH, value=xpath) instead\n",
            "  \"\"\"Entry point for launching an IPython kernel.\n"
          ]
        },
        {
          "output_type": "stream",
          "name": "stdout",
          "text": [
            "Length_of_movie_list :  87\n",
            "['Dangal', 'Baahubali 2: The Conclusion', 'K.G.F: Chapter 2', 'RRR', 'Bajrangi Bhaijaan', 'Secret Superstar', 'PK', '2.0', 'Sultan', 'Baahubali: The Beginning', 'Sanju', 'Tiger Zinda Hai', 'Padmaavat', 'Dhoom 3', 'War', 'Saaho', 'Andhadhun', '3 Idiots', 'Chennai Express', 'Simmba', 'Kabir Singh', 'Dilwale', 'Pushpa: The Rise - Part 1', 'Prem Ratan Dhan Payo', 'Bajirao Mastani', 'Tanhaji: The Unsung Warrior', 'Kick', 'Vikram', 'Happy New Year', 'Uri: The Surgical Strike', 'The Kashmir Files', 'Thugs of Hindostan', 'Golmaal Again', 'Bharat', 'Bigil', 'Good Newwz', 'Hindi Medium', 'Race 3', 'Ek Tha Tiger', 'Krrish 3', 'Housefull 4', 'Yeh Jawaani Hai Deewani', 'Kabali', 'Sooryavanshi', 'Enthiran', 'Toilet: A Love Story', 'Mission Mangal', 'Raees', 'Ala Vaikunthapurramuloo', 'Bang Bang', 'Mersal', 'Sarkar', 'Baaghi 2', 'Dabangg 2', 'Bhool Bhulaiyaa 2', 'Sye Raa Narasimha Reddy', 'Master', 'Tanu Weds Manu Returns', 'I', 'Sarileru Neekevvaru', 'Bodyguard', 'Ae Dil Hai Mushkil', 'Gully Boy', 'Beast', 'K.G.F: Chapter 1', 'Petta', 'Badhaai Ho', 'Total Dhamaal', 'Dabangg 3', 'Dabangg', 'Hichki', 'Rustom', 'Tubelight', 'Rangasthalam 1985', 'Singham Returns', 'Airlift', 'Darbar', 'Super 30', 'Jab Tak Hai Jaan', 'Ra.One', 'Judwaa 2', 'Chhichhore', 'Kesari', 'RamLeela', 'Don 2', 'My Name Is Khan', 'Rowdy Rathore']\n"
          ]
        }
      ]
    },
    {
      "cell_type": "code",
      "source": [
        "year_list = browser.find_elements_by_xpath(\"//span[@class='nowrap']\")\n",
        "print('Length_of_movie_list : ', len(year_list))\n",
        "\n",
        "years = []\n",
        "for year in year_list:\n",
        "  year = year.text\n",
        "  years.append(year)\n",
        "print(years)"
      ],
      "metadata": {
        "colab": {
          "base_uri": "https://localhost:8080/"
        },
        "id": "NnQnIdc5536I",
        "outputId": "23d6c9f2-01cf-4b25-ecdc-d7f8239445d9"
      },
      "execution_count": 43,
      "outputs": [
        {
          "output_type": "stream",
          "name": "stdout",
          "text": [
            "Length_of_movie_list :  87\n"
          ]
        },
        {
          "output_type": "stream",
          "name": "stderr",
          "text": [
            "/usr/local/lib/python3.7/dist-packages/ipykernel_launcher.py:1: DeprecationWarning: find_elements_by_xpath is deprecated. Please use find_elements(by=By.XPATH, value=xpath) instead\n",
            "  \"\"\"Entry point for launching an IPython kernel.\n"
          ]
        },
        {
          "output_type": "stream",
          "name": "stdout",
          "text": [
            "['(2016)', '(2017)', '(2022)', '(2022)', '(2015)', '(2017)', '(2014)', '(2018)', '(2016)', '(2015)', '(2018)', '(2017)', '(2018)', '(2013)', '(2019)', '(2019)', '(2018)', '(2009)', '(2013)', '(2018)', '(2019)', '(2015)', '(2021)', '(2015)', '(2015)', '(2020)', '(2014)', '(2022)', '(I) (2014)', '(2019)', '(2022)', '(2018)', '(2017)', '(2019)', '(2019)', '(2019)', '(2017)', '(2018)', '(2012)', '(2013)', '(2019)', '(2013)', '(2016)', '(2021)', '(2010)', '(2017)', '(2019)', '(2017)', '(2020)', '(I) (2014)', '(2017)', '(2018)', '(2018)', '(2012)', '(2022)', '(2019)', '(2021)', '(2015)', '(2015)', '(2020)', '(I) (2011)', '(2016)', '(2019)', '(II) (2022)', '(2018)', '(2019)', '(2018)', '(2019)', '(2019)', '(2010)', '(2018)', '(2016)', '(2017)', '(2018)', '(2014)', '(2016)', '(2020)', '(2019)', '(2012)', '(2011)', '(2017)', '(2019)', '(2019)', '(2013)', '(2011)', '(2010)', '(2012)']\n"
          ]
        }
      ]
    },
    {
      "cell_type": "code",
      "source": [
        "rating_list = browser.find_elements_by_xpath(\"//span[@class='imdb-rating']\")\n",
        "print('Length_of_movie_list : ', len(rating_list))\n",
        "\n",
        "ratings = []\n",
        "for rating in rating_list:\n",
        "  rating = rating.text\n",
        "  ratings.append(rating)\n",
        "print(ratings)"
      ],
      "metadata": {
        "colab": {
          "base_uri": "https://localhost:8080/"
        },
        "id": "VwQxKYv555A4",
        "outputId": "78525637-2223-4d9d-d83f-1183570936af"
      },
      "execution_count": 44,
      "outputs": [
        {
          "output_type": "stream",
          "name": "stdout",
          "text": [
            "Length_of_movie_list :  87\n"
          ]
        },
        {
          "output_type": "stream",
          "name": "stderr",
          "text": [
            "/usr/local/lib/python3.7/dist-packages/ipykernel_launcher.py:1: DeprecationWarning: find_elements_by_xpath is deprecated. Please use find_elements(by=By.XPATH, value=xpath) instead\n",
            "  \"\"\"Entry point for launching an IPython kernel.\n"
          ]
        },
        {
          "output_type": "stream",
          "name": "stdout",
          "text": [
            "['8.3', '8.2', '8.5', '8.1', '8.1', '7.8', '8.1', '6.1', '7', '8', '7.6', '5.9', '7', '5.3', '6.5', '5', '8.2', '8.4', '6', '5.7', '7', '5', '7.6', '4.4', '7.2', '7.5', '5.3', '8.9', '4.9', '8.2', '8.3', '4', '4.9', '4.7', '6.7', '6.8', '7.8', '1.9', '5.5', '5.3', '3.5', '7.2', '6.1', '6.4', '7.1', '7.2', '6.5', '6.6', '7.3', '5.5', '7.5', '6.8', '4.8', '4.8', '6.8', '7.3', '7.3', '7.6', '7.3', '5.8', '4.6', '5.8', '7.9', '5.2', '8.2', '7.2', '8', '4.1', '3', '6.2', '7.5', '7', '3.9', '8.2', '5.7', '7.9', '6', '7.9', '6.7', '4.6', '3.6', '8.2', '7.4', '6.4', '7', '7.9', '5.7']\n"
          ]
        }
      ]
    },
    {
      "cell_type": "code",
      "source": [
        "collection_list = browser.find_elements_by_xpath(\"//div[@class='col-xs-12 col-md-6 lister-item mode-simple']/div[@class='list-description underlined-links']\")\n",
        "print('Length_of_movie_list : ', len(collection_list))\n",
        "\n",
        "collections = []\n",
        "for collection in collection_list:\n",
        "  collection = collection.text\n",
        "  collection = collection.replace('Worldwide Gross : ','')\n",
        "  collections.append(collection)\n",
        "print(collections)"
      ],
      "metadata": {
        "id": "jbKSqdzYBBmZ",
        "outputId": "d34bacd2-0a97-4780-cf94-728a53746443",
        "colab": {
          "base_uri": "https://localhost:8080/"
        }
      },
      "execution_count": 46,
      "outputs": [
        {
          "output_type": "stream",
          "name": "stdout",
          "text": [
            "Length_of_movie_list :  87\n"
          ]
        },
        {
          "output_type": "stream",
          "name": "stderr",
          "text": [
            "/usr/local/lib/python3.7/dist-packages/ipykernel_launcher.py:1: DeprecationWarning: find_elements_by_xpath is deprecated. Please use find_elements(by=By.XPATH, value=xpath) instead\n",
            "  \"\"\"Entry point for launching an IPython kernel.\n"
          ]
        },
        {
          "output_type": "stream",
          "name": "stdout",
          "text": [
            "['1924.7cr', '1749cr', '1228.3cr', '1131.1cr', '858.8cr', '830.8cr', '742.3cr', '654.4cr', '614.9cr', '600.6cr', '580.1cr', '562.5cr', '560.7cr', '545.7cr', '460.6cr', '417.6cr', '410.2cr', '397.3cr', '391.5cr', '387cr', '375cr', '371.3cr', '369.9cr', '366.1cr', '354.4cr', '351.9cr', '349.5cr', '347.1cr (still running)\\n\\nNote : 14 Days Box Office Figures', '343.9cr', '339.3cr', '337.6cr', '317.7cr', '310.3cr', '307cr', '304.6cr', '304.2cr', '304cr', '302cr', '301.9cr', '298.4cr', '296.8cr', '295.5cr', '294.2cr', '291.8cr', '290.6cr', '290.2cr', '282.8cr', '275cr', '274.2cr', '270.8cr', '257.5cr', '255.9cr', '251.1cr', '251cr', '250.1cr (still running)\\n\\nNote : 28 Days Box Office Figures', '248cr', '245.3cr', '243cr', '239.2cr', '237.1cr', '234cr', '230cr', '229.5cr', '227.3cr', '226.1cr', '225.5cr', '225cr', '222cr', '219.3cr', '215cr', '215cr', '214cr', '214cr', '213.4cr', '212cr', '210cr', '209.3cr', '209.1cr', '209cr', '206.3cr', '205.5cr', '203.7cr', '202cr', '202cr', '201.2cr', '200.6cr', '200cr']\n"
          ]
        }
      ]
    },
    {
      "cell_type": "code",
      "source": [
        "import pandas as pd\n",
        "result = pd.DataFrame()\n",
        "result['Movie_Name'] = movies\n",
        "result['Year'] = years\n",
        "result['Ratings'] = ratings\n",
        "result['Collections'] = collections\n",
        "\n",
        "result.head(10)\n"
      ],
      "metadata": {
        "id": "Uw7Dek3bBKn6",
        "outputId": "895ef71e-256e-4333-f77e-ef50c338008a",
        "colab": {
          "base_uri": "https://localhost:8080/",
          "height": 363
        }
      },
      "execution_count": 47,
      "outputs": [
        {
          "output_type": "execute_result",
          "data": {
            "text/plain": [
              "                    Movie_Name    Year Ratings Collections\n",
              "0                       Dangal  (2016)     8.3    1924.7cr\n",
              "1  Baahubali 2: The Conclusion  (2017)     8.2      1749cr\n",
              "2             K.G.F: Chapter 2  (2022)     8.5    1228.3cr\n",
              "3                          RRR  (2022)     8.1    1131.1cr\n",
              "4            Bajrangi Bhaijaan  (2015)     8.1     858.8cr\n",
              "5             Secret Superstar  (2017)     7.8     830.8cr\n",
              "6                           PK  (2014)     8.1     742.3cr\n",
              "7                          2.0  (2018)     6.1     654.4cr\n",
              "8                       Sultan  (2016)       7     614.9cr\n",
              "9     Baahubali: The Beginning  (2015)       8     600.6cr"
            ],
            "text/html": [
              "\n",
              "  <div id=\"df-3b087c49-5e19-40f2-87b5-d830ed5e87f1\">\n",
              "    <div class=\"colab-df-container\">\n",
              "      <div>\n",
              "<style scoped>\n",
              "    .dataframe tbody tr th:only-of-type {\n",
              "        vertical-align: middle;\n",
              "    }\n",
              "\n",
              "    .dataframe tbody tr th {\n",
              "        vertical-align: top;\n",
              "    }\n",
              "\n",
              "    .dataframe thead th {\n",
              "        text-align: right;\n",
              "    }\n",
              "</style>\n",
              "<table border=\"1\" class=\"dataframe\">\n",
              "  <thead>\n",
              "    <tr style=\"text-align: right;\">\n",
              "      <th></th>\n",
              "      <th>Movie_Name</th>\n",
              "      <th>Year</th>\n",
              "      <th>Ratings</th>\n",
              "      <th>Collections</th>\n",
              "    </tr>\n",
              "  </thead>\n",
              "  <tbody>\n",
              "    <tr>\n",
              "      <th>0</th>\n",
              "      <td>Dangal</td>\n",
              "      <td>(2016)</td>\n",
              "      <td>8.3</td>\n",
              "      <td>1924.7cr</td>\n",
              "    </tr>\n",
              "    <tr>\n",
              "      <th>1</th>\n",
              "      <td>Baahubali 2: The Conclusion</td>\n",
              "      <td>(2017)</td>\n",
              "      <td>8.2</td>\n",
              "      <td>1749cr</td>\n",
              "    </tr>\n",
              "    <tr>\n",
              "      <th>2</th>\n",
              "      <td>K.G.F: Chapter 2</td>\n",
              "      <td>(2022)</td>\n",
              "      <td>8.5</td>\n",
              "      <td>1228.3cr</td>\n",
              "    </tr>\n",
              "    <tr>\n",
              "      <th>3</th>\n",
              "      <td>RRR</td>\n",
              "      <td>(2022)</td>\n",
              "      <td>8.1</td>\n",
              "      <td>1131.1cr</td>\n",
              "    </tr>\n",
              "    <tr>\n",
              "      <th>4</th>\n",
              "      <td>Bajrangi Bhaijaan</td>\n",
              "      <td>(2015)</td>\n",
              "      <td>8.1</td>\n",
              "      <td>858.8cr</td>\n",
              "    </tr>\n",
              "    <tr>\n",
              "      <th>5</th>\n",
              "      <td>Secret Superstar</td>\n",
              "      <td>(2017)</td>\n",
              "      <td>7.8</td>\n",
              "      <td>830.8cr</td>\n",
              "    </tr>\n",
              "    <tr>\n",
              "      <th>6</th>\n",
              "      <td>PK</td>\n",
              "      <td>(2014)</td>\n",
              "      <td>8.1</td>\n",
              "      <td>742.3cr</td>\n",
              "    </tr>\n",
              "    <tr>\n",
              "      <th>7</th>\n",
              "      <td>2.0</td>\n",
              "      <td>(2018)</td>\n",
              "      <td>6.1</td>\n",
              "      <td>654.4cr</td>\n",
              "    </tr>\n",
              "    <tr>\n",
              "      <th>8</th>\n",
              "      <td>Sultan</td>\n",
              "      <td>(2016)</td>\n",
              "      <td>7</td>\n",
              "      <td>614.9cr</td>\n",
              "    </tr>\n",
              "    <tr>\n",
              "      <th>9</th>\n",
              "      <td>Baahubali: The Beginning</td>\n",
              "      <td>(2015)</td>\n",
              "      <td>8</td>\n",
              "      <td>600.6cr</td>\n",
              "    </tr>\n",
              "  </tbody>\n",
              "</table>\n",
              "</div>\n",
              "      <button class=\"colab-df-convert\" onclick=\"convertToInteractive('df-3b087c49-5e19-40f2-87b5-d830ed5e87f1')\"\n",
              "              title=\"Convert this dataframe to an interactive table.\"\n",
              "              style=\"display:none;\">\n",
              "        \n",
              "  <svg xmlns=\"http://www.w3.org/2000/svg\" height=\"24px\"viewBox=\"0 0 24 24\"\n",
              "       width=\"24px\">\n",
              "    <path d=\"M0 0h24v24H0V0z\" fill=\"none\"/>\n",
              "    <path d=\"M18.56 5.44l.94 2.06.94-2.06 2.06-.94-2.06-.94-.94-2.06-.94 2.06-2.06.94zm-11 1L8.5 8.5l.94-2.06 2.06-.94-2.06-.94L8.5 2.5l-.94 2.06-2.06.94zm10 10l.94 2.06.94-2.06 2.06-.94-2.06-.94-.94-2.06-.94 2.06-2.06.94z\"/><path d=\"M17.41 7.96l-1.37-1.37c-.4-.4-.92-.59-1.43-.59-.52 0-1.04.2-1.43.59L10.3 9.45l-7.72 7.72c-.78.78-.78 2.05 0 2.83L4 21.41c.39.39.9.59 1.41.59.51 0 1.02-.2 1.41-.59l7.78-7.78 2.81-2.81c.8-.78.8-2.07 0-2.86zM5.41 20L4 18.59l7.72-7.72 1.47 1.35L5.41 20z\"/>\n",
              "  </svg>\n",
              "      </button>\n",
              "      \n",
              "  <style>\n",
              "    .colab-df-container {\n",
              "      display:flex;\n",
              "      flex-wrap:wrap;\n",
              "      gap: 12px;\n",
              "    }\n",
              "\n",
              "    .colab-df-convert {\n",
              "      background-color: #E8F0FE;\n",
              "      border: none;\n",
              "      border-radius: 50%;\n",
              "      cursor: pointer;\n",
              "      display: none;\n",
              "      fill: #1967D2;\n",
              "      height: 32px;\n",
              "      padding: 0 0 0 0;\n",
              "      width: 32px;\n",
              "    }\n",
              "\n",
              "    .colab-df-convert:hover {\n",
              "      background-color: #E2EBFA;\n",
              "      box-shadow: 0px 1px 2px rgba(60, 64, 67, 0.3), 0px 1px 3px 1px rgba(60, 64, 67, 0.15);\n",
              "      fill: #174EA6;\n",
              "    }\n",
              "\n",
              "    [theme=dark] .colab-df-convert {\n",
              "      background-color: #3B4455;\n",
              "      fill: #D2E3FC;\n",
              "    }\n",
              "\n",
              "    [theme=dark] .colab-df-convert:hover {\n",
              "      background-color: #434B5C;\n",
              "      box-shadow: 0px 1px 3px 1px rgba(0, 0, 0, 0.15);\n",
              "      filter: drop-shadow(0px 1px 2px rgba(0, 0, 0, 0.3));\n",
              "      fill: #FFFFFF;\n",
              "    }\n",
              "  </style>\n",
              "\n",
              "      <script>\n",
              "        const buttonEl =\n",
              "          document.querySelector('#df-3b087c49-5e19-40f2-87b5-d830ed5e87f1 button.colab-df-convert');\n",
              "        buttonEl.style.display =\n",
              "          google.colab.kernel.accessAllowed ? 'block' : 'none';\n",
              "\n",
              "        async function convertToInteractive(key) {\n",
              "          const element = document.querySelector('#df-3b087c49-5e19-40f2-87b5-d830ed5e87f1');\n",
              "          const dataTable =\n",
              "            await google.colab.kernel.invokeFunction('convertToInteractive',\n",
              "                                                     [key], {});\n",
              "          if (!dataTable) return;\n",
              "\n",
              "          const docLinkHtml = 'Like what you see? Visit the ' +\n",
              "            '<a target=\"_blank\" href=https://colab.research.google.com/notebooks/data_table.ipynb>data table notebook</a>'\n",
              "            + ' to learn more about interactive tables.';\n",
              "          element.innerHTML = '';\n",
              "          dataTable['output_type'] = 'display_data';\n",
              "          await google.colab.output.renderOutput(dataTable, element);\n",
              "          const docLink = document.createElement('div');\n",
              "          docLink.innerHTML = docLinkHtml;\n",
              "          element.appendChild(docLink);\n",
              "        }\n",
              "      </script>\n",
              "    </div>\n",
              "  </div>\n",
              "  "
            ]
          },
          "metadata": {},
          "execution_count": 47
        }
      ]
    }
  ]
}